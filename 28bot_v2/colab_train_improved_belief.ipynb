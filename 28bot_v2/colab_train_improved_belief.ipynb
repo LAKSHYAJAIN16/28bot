{
  "cells": [
    {
      "cell_type": "markdown",
      "metadata": {},
      "source": [
        "# Improved Belief Model - Colab Training Notebook\n",
        "\n",
        "This notebook is set up to train the Improved Belief Model on Google Colab with optional GPU acceleration.\n",
        "\n",
        "What it does:\n",
        "- Installs dependencies\n",
        "- Loads your project into Colab (upload zip or mount Drive)\n",
        "- Parses existing logs into training states\n",
        "- Trains the improved belief model (with configurable epochs/sample fraction)\n",
        "- Saves the trained weights back to Drive or local runtime\n",
        "\n",
        "Notes:\n",
        "- If using GPU: Runtime → Change runtime type → Hardware accelerator: GPU.\n",
        "- Ensure your logs exist (e.g., `logs/game28/mcts_games` and/or `logs/improved_games`).\n"
      ]
    },
    {
      "cell_type": "code",
      "execution_count": null,
      "metadata": {
        "vscode": {
          "languageId": "plaintext"
        }
      },
      "outputs": [],
      "source": [
        "# Install system and Python dependencies\n",
        "pip -q install --upgrade pip\n",
        "pip -q install torch torchvision torchaudio --index-url https://download.pytorch.org/whl/cu121\n",
        "pip -q install tqdm numpy pyyaml\n"
      ]
    },
    {
      "cell_type": "code",
      "execution_count": null,
      "metadata": {},
      "outputs": [],
      "source": [
        "#@title Mount Google Drive (optional) and set up project\n",
        "USE_DRIVE = True  #@param {type:\"boolean\"}\n",
        "PROJECT_DIR = \"/content/28bot\"  #@param {type:\"string\"}\n",
        "\n",
        "import os, shutil\n",
        "from pathlib import Path\n",
        "\n",
        "if USE_DRIVE:\n",
        "  from google.colab import drive\n",
        "  drive.mount('/content/drive')\n",
        "  DRIVE_BASE = \"/content/drive/MyDrive\"\n",
        "  if not os.path.exists(f\"{DRIVE_BASE}/28bot\"):\n",
        "    os.makedirs(f\"{DRIVE_BASE}/28bot\", exist_ok=True)\n",
        "  PROJECT_DIR = f\"{DRIVE_BASE}/28bot\"\n",
        "\n",
        "print(\"Project dir:\", PROJECT_DIR)\n",
        "Path(PROJECT_DIR).mkdir(parents=True, exist_ok=True)\n"
      ]
    },
    {
      "cell_type": "code",
      "execution_count": null,
      "metadata": {},
      "outputs": [],
      "source": [
        "#@title Upload repo zip or clone (choose one)\n",
        "MODE = \"upload_zip\"  #@param [\"upload_zip\", \"git_clone\"]\n",
        "GIT_URL = \"\"  #@param {type:\"string\"}\n",
        "\n",
        "import os, zipfile\n",
        "from google.colab import files\n",
        "\n",
        "os.chdir(PROJECT_DIR)\n",
        "\n",
        "if MODE == \"upload_zip\":\n",
        "  print(\"Please upload a zip containing the 28bot_v2 folder and logs/... folders\")\n",
        "  uploaded = files.upload()\n",
        "  for fn in uploaded:\n",
        "    if fn.endswith('.zip'):\n",
        "      with zipfile.ZipFile(fn, 'r') as z:\n",
        "        z.extractall(PROJECT_DIR)\n",
        "      print(\"Unzipped:\", fn)\n",
        "else:\n",
        "  if not GIT_URL:\n",
        "    raise ValueError(\"Provide a GIT_URL or use upload_zip mode\")\n",
        "  # Use shell command via python to avoid lint in this cell\n",
        "  import subprocess\n",
        "  subprocess.run([\"bash\", \"-lc\", f\"git clone {GIT_URL} {PROJECT_DIR}\"])\n",
        "\n",
        "print(\"Project contents:\", os.listdir(PROJECT_DIR)[:20])\n"
      ]
    }
  ],
  "metadata": {
    "language_info": {
      "name": "python"
    }
  },
  "nbformat": 4,
  "nbformat_minor": 2
}
